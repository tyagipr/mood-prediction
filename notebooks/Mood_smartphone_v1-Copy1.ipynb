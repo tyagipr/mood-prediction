{
 "cells": [
  {
   "cell_type": "markdown",
   "id": "5f26387e",
   "metadata": {},
   "source": [
    "## Dataset overview"
   ]
  },
  {
   "cell_type": "markdown",
   "id": "4e52fc87",
   "metadata": {},
   "source": [
    "<p style=\"color:blue;\"> First lets Import the required libraries </p>"
   ]
  },
  {
   "cell_type": "code",
   "execution_count": 18,
   "id": "9cc6b4f0",
   "metadata": {},
   "outputs": [],
   "source": [
    "import pandas as pd\n",
    "import numpy as np\n",
    "import matplotlib.pyplot as plt\n",
    "%matplotlib inline"
   ]
  },
  {
   "cell_type": "markdown",
   "id": "2632a290",
   "metadata": {},
   "source": [
    "<p style=\"color:blue;\"> After importing the required libraries we will now import the dataset </p>"
   ]
  },
  {
   "cell_type": "code",
   "execution_count": 19,
   "id": "8c679994",
   "metadata": {},
   "outputs": [
    {
     "data": {
      "text/html": [
       "<div>\n",
       "<style scoped>\n",
       "    .dataframe tbody tr th:only-of-type {\n",
       "        vertical-align: middle;\n",
       "    }\n",
       "\n",
       "    .dataframe tbody tr th {\n",
       "        vertical-align: top;\n",
       "    }\n",
       "\n",
       "    .dataframe thead th {\n",
       "        text-align: right;\n",
       "    }\n",
       "</style>\n",
       "<table border=\"1\" class=\"dataframe\">\n",
       "  <thead>\n",
       "    <tr style=\"text-align: right;\">\n",
       "      <th></th>\n",
       "      <th>id</th>\n",
       "      <th>time</th>\n",
       "      <th>variable</th>\n",
       "      <th>value</th>\n",
       "    </tr>\n",
       "  </thead>\n",
       "  <tbody>\n",
       "    <tr>\n",
       "      <th>0</th>\n",
       "      <td>AS14.01</td>\n",
       "      <td>2014-02-26 13:00:00.000</td>\n",
       "      <td>mood</td>\n",
       "      <td>6.0</td>\n",
       "    </tr>\n",
       "    <tr>\n",
       "      <th>1</th>\n",
       "      <td>AS14.01</td>\n",
       "      <td>2014-02-26 15:00:00.000</td>\n",
       "      <td>mood</td>\n",
       "      <td>6.0</td>\n",
       "    </tr>\n",
       "    <tr>\n",
       "      <th>2</th>\n",
       "      <td>AS14.01</td>\n",
       "      <td>2014-02-26 18:00:00.000</td>\n",
       "      <td>mood</td>\n",
       "      <td>6.0</td>\n",
       "    </tr>\n",
       "    <tr>\n",
       "      <th>3</th>\n",
       "      <td>AS14.01</td>\n",
       "      <td>2014-02-26 21:00:00.000</td>\n",
       "      <td>mood</td>\n",
       "      <td>7.0</td>\n",
       "    </tr>\n",
       "    <tr>\n",
       "      <th>4</th>\n",
       "      <td>AS14.01</td>\n",
       "      <td>2014-02-27 09:00:00.000</td>\n",
       "      <td>mood</td>\n",
       "      <td>6.0</td>\n",
       "    </tr>\n",
       "    <tr>\n",
       "      <th>5</th>\n",
       "      <td>AS14.01</td>\n",
       "      <td>2014-02-27 12:00:00.000</td>\n",
       "      <td>mood</td>\n",
       "      <td>6.0</td>\n",
       "    </tr>\n",
       "    <tr>\n",
       "      <th>6</th>\n",
       "      <td>AS14.01</td>\n",
       "      <td>2014-02-27 15:00:00.000</td>\n",
       "      <td>mood</td>\n",
       "      <td>7.0</td>\n",
       "    </tr>\n",
       "    <tr>\n",
       "      <th>7</th>\n",
       "      <td>AS14.01</td>\n",
       "      <td>2014-03-21 09:00:00.000</td>\n",
       "      <td>mood</td>\n",
       "      <td>6.0</td>\n",
       "    </tr>\n",
       "    <tr>\n",
       "      <th>8</th>\n",
       "      <td>AS14.01</td>\n",
       "      <td>2014-03-21 11:00:00.000</td>\n",
       "      <td>mood</td>\n",
       "      <td>6.0</td>\n",
       "    </tr>\n",
       "    <tr>\n",
       "      <th>9</th>\n",
       "      <td>AS14.01</td>\n",
       "      <td>2014-03-21 15:00:00.000</td>\n",
       "      <td>mood</td>\n",
       "      <td>7.0</td>\n",
       "    </tr>\n",
       "  </tbody>\n",
       "</table>\n",
       "</div>"
      ],
      "text/plain": [
       "        id                     time variable  value\n",
       "0  AS14.01  2014-02-26 13:00:00.000     mood    6.0\n",
       "1  AS14.01  2014-02-26 15:00:00.000     mood    6.0\n",
       "2  AS14.01  2014-02-26 18:00:00.000     mood    6.0\n",
       "3  AS14.01  2014-02-26 21:00:00.000     mood    7.0\n",
       "4  AS14.01  2014-02-27 09:00:00.000     mood    6.0\n",
       "5  AS14.01  2014-02-27 12:00:00.000     mood    6.0\n",
       "6  AS14.01  2014-02-27 15:00:00.000     mood    7.0\n",
       "7  AS14.01  2014-03-21 09:00:00.000     mood    6.0\n",
       "8  AS14.01  2014-03-21 11:00:00.000     mood    6.0\n",
       "9  AS14.01  2014-03-21 15:00:00.000     mood    7.0"
      ]
     },
     "execution_count": 19,
     "metadata": {},
     "output_type": "execute_result"
    }
   ],
   "source": [
    "# Read csv file\n",
    "df_mood_smartphone = pd.read_csv(\"dataset_mood_smartphone.csv\")  \n",
    "\n",
    "# Remove the 'Unnamed: 0' column\n",
    "df_mood_smartphone.drop('Unnamed: 0', axis=1, inplace=True)\n",
    "\n",
    "df_mood_smartphone.head(10) # Glance of the dataset"
   ]
  },
  {
   "cell_type": "markdown",
   "id": "f85f74d1",
   "metadata": {},
   "source": [
    "<p style=\"color:blue;\"> Lets now describe the data </p>"
   ]
  },
  {
   "cell_type": "markdown",
   "id": "19dfbeaa",
   "metadata": {},
   "source": [
    "##### The dataset has the following columns below:\n",
    "1. id  &ensp; - &ensp;  unique identifier of user.\n",
    "2. time  &ensp; - &ensp;  Date with time record was made.\n",
    "3. variable  &ensp; - &ensp;  age in years.\n",
    "- mood &ensp; - &ensp; The mood scored by the user on a scale of 1-10\n",
    "- circumplex.arousal &ensp; - &ensp; The arousal scored by the user, on a scale between -2 to 2\n",
    "- circumplex.valence &ensp; - &ensp; The valence scored by the user, on a scale between -2 to 2\n",
    "- activity &ensp; - &ensp; Activity score of the user (number between 0 and 1)\n",
    "- screen &ensp; - &ensp; Duration of screen activity (time)\n",
    "- call &ensp; - &ensp; Call made (indicated by a 1)\n",
    "- sms &ensp; - &ensp; SMS sent (indicated by a 1)\n",
    "- appCat.builtin &ensp; - &ensp; Duration of usage of builtin apps (time)\n",
    "- appCat.communication &ensp; - &ensp; Duration of usage of communication apps (time)\n",
    "- appCat.entertainment &ensp; - &ensp; Duration of usage of entertainment apps (time)\n",
    "- appCat.finance &ensp; - &ensp; Duration of usage of finance apps (time)\n",
    "- appCat.game &ensp; - &ensp; Duration of usage of game apps (time)\n",
    "- appCat.office &ensp; - &ensp; Duration of usage of office apps (time)\n",
    "- appCat.other &ensp; - &ensp; Duration of usage of other apps (time)\n",
    "- appCat.social &ensp; - &ensp; Duration of usage of social apps (time)\n",
    "- appCat.travel &ensp; - &ensp; Duration of usage of travel apps (time)\n",
    "- appCat.unknown &ensp; - &ensp; Duration of usage of unknown apps (time)\n",
    "- appCat.utilities &ensp; - &ensp; Duration of usage of utilities apps (time)\n",
    "- appCat.weather &ensp; - &ensp; Duration of usage of weather apps (time)\n",
    "4. value  &ensp; - &ensp;  a number associated to variable."
   ]
  },
  {
   "cell_type": "markdown",
   "id": "228e730d",
   "metadata": {},
   "source": [
    "## EXPLORATORY DATA ANALYSIS (EDA) ## "
   ]
  },
  {
   "cell_type": "code",
   "execution_count": 23,
   "id": "0a6aa0a1",
   "metadata": {},
   "outputs": [
    {
     "name": "stdout",
     "output_type": "stream",
     "text": [
      "Number of records: 376912\n",
      "Number of attributes: 4\n"
     ]
    }
   ],
   "source": [
    "# Check the number of records and attributes\n",
    "num_records, num_attributes = df_mood_smartphone.shape\n",
    "print(f\"Number of records: {num_records}\")\n",
    "print(f\"Number of attributes: {num_attributes}\")"
   ]
  },
  {
   "cell_type": "code",
   "execution_count": 24,
   "id": "9f2c6d88",
   "metadata": {},
   "outputs": [
    {
     "name": "stdout",
     "output_type": "stream",
     "text": [
      "<class 'pandas.core.frame.DataFrame'>\n",
      "RangeIndex: 376912 entries, 0 to 376911\n",
      "Data columns (total 4 columns):\n",
      " #   Column    Non-Null Count   Dtype  \n",
      "---  ------    --------------   -----  \n",
      " 0   id        376912 non-null  object \n",
      " 1   time      376912 non-null  object \n",
      " 2   variable  376912 non-null  object \n",
      " 3   value     376710 non-null  float64\n",
      "dtypes: float64(1), object(3)\n",
      "memory usage: 11.5+ MB\n",
      "None\n"
     ]
    }
   ],
   "source": [
    "#tstatistical information about the data\n",
    "print(df_mood_smartphone.info())"
   ]
  },
  {
   "cell_type": "code",
   "execution_count": 25,
   "id": "e70fac37",
   "metadata": {},
   "outputs": [
    {
     "name": "stdout",
     "output_type": "stream",
     "text": [
      "Minimum values:\n",
      "id                          AS14.01\n",
      "time        2014-02-17 07:00:52.197\n",
      "variable                   activity\n",
      "value                    -82798.871\n",
      "dtype: object\n",
      "\n",
      "Maximum values:\n",
      "id                          AS14.33\n",
      "time        2014-06-09 00:00:00.000\n",
      "variable                        sms\n",
      "value                     33960.246\n",
      "dtype: object\n"
     ]
    }
   ],
   "source": [
    "# Find the minimum and maximum values for each column\n",
    "min_values = df_mood_smartphone.min()\n",
    "max_values = df_mood_smartphone.max()\n",
    "\n",
    "print(\"Minimum values:\")\n",
    "print(min_values)\n",
    "print(\"\\nMaximum values:\")\n",
    "print(max_values)"
   ]
  },
  {
   "cell_type": "code",
   "execution_count": 26,
   "id": "3bd15509",
   "metadata": {},
   "outputs": [
    {
     "name": "stdout",
     "output_type": "stream",
     "text": [
      "               value\n",
      "count  376710.000000\n",
      "mean       40.665313\n",
      "std       273.726007\n",
      "min    -82798.871000\n",
      "25%         2.025000\n",
      "50%         7.029000\n",
      "75%        29.356000\n",
      "max     33960.246000\n"
     ]
    }
   ],
   "source": [
    "# Summary statistics\n",
    "print(df_mood_smartphone.describe())"
   ]
  },
  {
   "cell_type": "code",
   "execution_count": 27,
   "id": "1b14fb6e",
   "metadata": {},
   "outputs": [
    {
     "name": "stdout",
     "output_type": "stream",
     "text": [
      "id            0\n",
      "time          0\n",
      "variable      0\n",
      "value       202\n",
      "dtype: int64\n"
     ]
    }
   ],
   "source": [
    "# Check for missing values\n",
    "print(df_mood_smartphone.isnull().sum())"
   ]
  },
  {
   "cell_type": "code",
   "execution_count": 28,
   "id": "e719c38d",
   "metadata": {},
   "outputs": [
    {
     "name": "stdout",
     "output_type": "stream",
     "text": [
      "['mood' 'circumplex.arousal' 'circumplex.valence' 'activity' 'screen'\n",
      " 'call' 'sms' 'appCat.builtin' 'appCat.communication'\n",
      " 'appCat.entertainment' 'appCat.finance' 'appCat.game' 'appCat.office'\n",
      " 'appCat.other' 'appCat.social' 'appCat.travel' 'appCat.unknown'\n",
      " 'appCat.utilities' 'appCat.weather']\n"
     ]
    }
   ],
   "source": [
    "# Get unique values for the 'variable' column\n",
    "unique_variables = df_mood_smartphone['variable'].unique()\n",
    "\n",
    "# Print the unique values\n",
    "print(unique_variables)\n"
   ]
  },
  {
   "cell_type": "code",
   "execution_count": 29,
   "id": "11f56b38",
   "metadata": {},
   "outputs": [
    {
     "name": "stdout",
     "output_type": "stream",
     "text": [
      "        id                     time variable  value\n",
      "0  AS14.01  2014-02-26 13:00:00.000     mood    6.0\n",
      "1  AS14.01  2014-02-26 15:00:00.000     mood    6.0\n",
      "2  AS14.01  2014-02-26 18:00:00.000     mood    6.0\n",
      "3  AS14.01  2014-02-26 21:00:00.000     mood    7.0\n",
      "4  AS14.01  2014-02-27 09:00:00.000     mood    6.0\n"
     ]
    }
   ],
   "source": [
    "# lets now filter the DataFrame to select rows for a specific ID\n",
    "rows_for_id = df_mood_smartphone[(df_mood_smartphone['id'] == 'AS14.01') & (df_mood_smartphone['variable'] == 'mood')]\n",
    "\n",
    "# Print the filtered rows\n",
    "print(rows_for_id.head())\n"
   ]
  },
  {
   "cell_type": "code",
   "execution_count": 30,
   "id": "99705a35",
   "metadata": {},
   "outputs": [
    {
     "name": "stdout",
     "output_type": "stream",
     "text": [
      "['AS14.01', 'AS14.02', 'AS14.03', 'AS14.05', 'AS14.06', 'AS14.07', 'AS14.08', 'AS14.09', 'AS14.12', 'AS14.13', 'AS14.14', 'AS14.15', 'AS14.16', 'AS14.17', 'AS14.19', 'AS14.20', 'AS14.23', 'AS14.24', 'AS14.25', 'AS14.26', 'AS14.27', 'AS14.28', 'AS14.29', 'AS14.30', 'AS14.31', 'AS14.32', 'AS14.33']\n"
     ]
    }
   ],
   "source": [
    "#Lets check the rows with variable mood\n",
    "\n",
    "# fetching all rows with variable mood\n",
    "all_rows = df_mood_smartphone[df_mood_smartphone['variable'] == 'mood']\n",
    "\n",
    "# all the userid list\n",
    "ids_list = all_rows['id'].tolist()\n",
    "ids = set()\n",
    "\n",
    "# Iterate through each dictionary in the list\n",
    "for item in ids_list:\n",
    "    # Add the ID to the set\n",
    "    ids.add(item)\n",
    "\n",
    "# Convert the set to a list\n",
    "print(sorted(ids))"
   ]
  },
  {
   "cell_type": "markdown",
   "id": "33965cd2",
   "metadata": {},
   "source": [
    "## DATA CLEANING ## "
   ]
  },
  {
   "cell_type": "markdown",
   "id": "d7d479b2",
   "metadata": {},
   "source": [
    "Lets use forward fill to fill in the missing values. The fact that we are dealing with mode scores and its time series data this will help us to preserve the temporal structure of the data"
   ]
  },
  {
   "cell_type": "code",
   "execution_count": 31,
   "id": "36742027",
   "metadata": {},
   "outputs": [],
   "source": [
    "# Fill missing values using forward fill\n",
    "df_mood_smartphone['value'].fillna(method='ffill', inplace=True)"
   ]
  },
  {
   "cell_type": "code",
   "execution_count": 32,
   "id": "90e35bbc",
   "metadata": {},
   "outputs": [
    {
     "name": "stdout",
     "output_type": "stream",
     "text": [
      "id          0\n",
      "time        0\n",
      "variable    0\n",
      "value       0\n",
      "dtype: int64\n"
     ]
    }
   ],
   "source": [
    "print(df_mood_smartphone.isnull().sum())"
   ]
  },
  {
   "cell_type": "markdown",
   "id": "c8b3a001",
   "metadata": {},
   "source": [
    "## CHARTS ## "
   ]
  },
  {
   "cell_type": "code",
   "execution_count": 33,
   "id": "190d8925",
   "metadata": {},
   "outputs": [
    {
     "data": {
      "image/png": "[encoded data removed]",
      "text/plain": [
       "<Figure size 640x480 with 1 Axes>"
      ]
     },
     "metadata": {},
     "output_type": "display_data"
    }
   ],
   "source": [
    "# Distribution of mood scores for variable mood\n",
    "plt.hist(df_mood_smartphone[df_mood_smartphone['variable'] == 'mood']['value'], bins=10, color='skyblue', edgecolor='black')\n",
    "plt.xlabel('Mood Score')\n",
    "plt.ylabel('Frequency')\n",
    "plt.title('Distribution of Mood Scores')\n",
    "plt.show()"
   ]
  },
  {
   "cell_type": "code",
   "execution_count": 34,
   "id": "54d7f32b",
   "metadata": {},
   "outputs": [
    {
     "data": {
      "image/png": "[encoded data removed]",
      "text/plain": [
       "<Figure size 640x480 with 1 Axes>"
      ]
     },
     "metadata": {},
     "output_type": "display_data"
    }
   ],
   "source": [
    "# Convert 'time' column to datetime\n",
    "df_mood_smartphone['time'] = pd.to_datetime(df_mood_smartphone['time'])\n",
    "\n",
    "# Plot mood scores over time\n",
    "plt.plot(df_mood_smartphone['time'], df_mood_smartphone['value'], marker='o', linestyle='-')\n",
    "plt.xlabel('Time')\n",
    "plt.ylabel('Mood Score')\n",
    "plt.title('Mood Scores Over Time')\n",
    "plt.xticks(rotation=45)\n",
    "plt.show()"
   ]
  },
  {
   "cell_type": "markdown",
   "id": "df1948f8",
   "metadata": {},
   "source": [
    "## FEATURE ENGINEERING ## "
   ]
  },
  {
   "cell_type": "code",
   "execution_count": 35,
   "id": "e83dbfee",
   "metadata": {},
   "outputs": [
    {
     "name": "stdout",
     "output_type": "stream",
     "text": [
      "                 time  value\n",
      "0 2014-02-26 13:00:00    6.0\n",
      "1 2014-02-26 15:00:00    6.0\n",
      "2 2014-02-26 18:00:00    6.0\n",
      "3 2014-02-26 21:00:00    7.0\n",
      "4 2014-02-27 09:00:00    6.0\n"
     ]
    }
   ],
   "source": [
    "# Convert Timestamp to datetime\n",
    "df_mood_smartphone['time'] = pd.to_datetime(df_mood_smartphone['time'])\n",
    "\n",
    "# Extract date from Timestamp\n",
    "df_mood_smartphone['Date'] = df_mood_smartphone['time'].dt.date\n",
    "\n",
    "# Aggregate mood scores by day\n",
    "daily_mood = df_mood_smartphone[df_mood_smartphone['variable'] == 'mood'].groupby(['id', 'Date'])['value'].mean().reset_index()\n",
    "\n",
    "# Extracting temporal features\n",
    "df_mood_smartphone['time'] = pd.to_datetime(df_mood_smartphone['time'])\n",
    "df_mood_smartphone['Day'] = df_mood_smartphone['time'].dt.day\n",
    "df_mood_smartphone['Month'] = df_mood_smartphone['time'].dt.month\n",
    "df_mood_smartphone['Year'] = df_mood_smartphone['time'].dt.year\n",
    "\n",
    "# Calculate daily averages for mood scores\n",
    "daily_mood = df_mood_smartphone[df_mood_smartphone['variable'] == 'mood'].groupby('time')['value'].mean().reset_index()\n",
    "\n",
    "# Display the first few rows\n",
    "print(daily_mood.head())"
   ]
  }
 ],
 "metadata": {
  "kernelspec": {
   "display_name": "Python 3 (ipykernel)",
   "language": "python",
   "name": "python3"
  },
  "language_info": {
   "codemirror_mode": {
    "name": "ipython",
    "version": 3
   },
   "file_extension": ".py",
   "mimetype": "text/x-python",
   "name": "python",
   "nbconvert_exporter": "python",
   "pygments_lexer": "ipython3",
   "version": "3.11.4"
  }
 },
 "nbformat": 4,
 "nbformat_minor": 5
}
